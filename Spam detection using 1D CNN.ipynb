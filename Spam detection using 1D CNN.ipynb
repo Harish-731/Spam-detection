{
 "cells": [
  {
   "cell_type": "code",
   "execution_count": 1,
   "id": "fea1b07e",
   "metadata": {},
   "outputs": [],
   "source": [
    "import pandas as pd\n",
    "from keras.models import Sequential\n",
    "from keras.layers import Dense, Dropout, Embedding, Conv1D, MaxPooling1D, GlobalMaxPooling1D\n",
    "from keras.preprocessing.text import Tokenizer\n",
    "from keras_preprocessing.sequence import pad_sequences\n",
    "from sklearn.model_selection import train_test_split\n",
    "from sklearn.preprocessing import LabelEncoder"
   ]
  },
  {
   "cell_type": "code",
   "execution_count": 2,
   "id": "0b99e4cd",
   "metadata": {},
   "outputs": [],
   "source": [
    "data = pd.read_csv(r'C:\\Users\\haris\\Downloads\\archive (9)\\spam.csv',encoding='ISO-8859-1')"
   ]
  },
  {
   "cell_type": "code",
   "execution_count": 3,
   "id": "f1c25401",
   "metadata": {},
   "outputs": [],
   "source": [
    "texts = data[\"v2\"]\n",
    "labels = data[\"v1\"]"
   ]
  },
  {
   "cell_type": "code",
   "execution_count": 4,
   "id": "2fd6bd8b",
   "metadata": {},
   "outputs": [],
   "source": [
    "le = LabelEncoder()\n",
    "labels = le.fit_transform(labels)\n",
    "labels = labels.reshape(-1,1)"
   ]
  },
  {
   "cell_type": "code",
   "execution_count": 5,
   "id": "ce22e792",
   "metadata": {},
   "outputs": [],
   "source": [
    "texts_train, texts_test, labels_train, labels_test = train_test_split(texts, labels, test_size=0.2, random_state=42)"
   ]
  },
  {
   "cell_type": "code",
   "execution_count": 6,
   "id": "db5518a6",
   "metadata": {},
   "outputs": [],
   "source": [
    "tokenizer = Tokenizer()\n",
    "tokenizer.fit_on_texts(texts_train)\n",
    "sequences_train = tokenizer.texts_to_sequences(texts_train)\n",
    "vocab_size = len(tokenizer.word_index) + 1"
   ]
  },
  {
   "cell_type": "code",
   "execution_count": 7,
   "id": "608e9109",
   "metadata": {},
   "outputs": [],
   "source": [
    "max_length = max([len(s) for s in sequences_train])\n",
    "padded_sequences_train = pad_sequences(sequences_train, maxlen=max_length)"
   ]
  },
  {
   "cell_type": "code",
   "execution_count": 8,
   "id": "c821a13f",
   "metadata": {},
   "outputs": [],
   "source": [
    "sequences_test = tokenizer.texts_to_sequences(texts_test)\n",
    "padded_sequences_test = pad_sequences(sequences_test, maxlen=max_length)"
   ]
  },
  {
   "cell_type": "code",
   "execution_count": 9,
   "id": "bf962153",
   "metadata": {},
   "outputs": [],
   "source": [
    "model = Sequential()\n",
    "model.add(Embedding(vocab_size, 100, input_length=max_length))\n",
    "model.add(Conv1D(filters=32, kernel_size=3, activation='relu'))\n",
    "model.add(MaxPooling1D(pool_size=2))\n",
    "model.add(GlobalMaxPooling1D())\n",
    "model.add(Dense(10, activation='relu'))\n",
    "model.add(Dropout(0.5))\n",
    "model.add(Dense(1, activation='sigmoid'))\n"
   ]
  },
  {
   "cell_type": "code",
   "execution_count": 10,
   "id": "767681b2",
   "metadata": {},
   "outputs": [
    {
     "name": "stdout",
     "output_type": "stream",
     "text": [
      "Epoch 1/10\n",
      "140/140 [==============================] - 2s 8ms/step - loss: 0.4813 - accuracy: 0.8521\n",
      "Epoch 2/10\n",
      "140/140 [==============================] - 1s 8ms/step - loss: 0.2803 - accuracy: 0.9109\n",
      "Epoch 3/10\n",
      "140/140 [==============================] - 1s 8ms/step - loss: 0.1886 - accuracy: 0.9560\n",
      "Epoch 4/10\n",
      "140/140 [==============================] - 1s 8ms/step - loss: 0.1599 - accuracy: 0.9737\n",
      "Epoch 5/10\n",
      "140/140 [==============================] - 1s 8ms/step - loss: 0.1391 - accuracy: 0.9805\n",
      "Epoch 6/10\n",
      "140/140 [==============================] - 1s 8ms/step - loss: 0.1256 - accuracy: 0.9809\n",
      "Epoch 7/10\n",
      "140/140 [==============================] - 1s 8ms/step - loss: 0.1191 - accuracy: 0.9827\n",
      "Epoch 8/10\n",
      "140/140 [==============================] - 1s 8ms/step - loss: 0.1114 - accuracy: 0.9845\n",
      "Epoch 9/10\n",
      "140/140 [==============================] - 1s 8ms/step - loss: 0.1050 - accuracy: 0.9838\n",
      "Epoch 10/10\n",
      "140/140 [==============================] - 1s 8ms/step - loss: 0.0981 - accuracy: 0.9825\n"
     ]
    },
    {
     "data": {
      "text/plain": [
       "<keras.callbacks.History at 0x1d0e30e41c0>"
      ]
     },
     "execution_count": 10,
     "metadata": {},
     "output_type": "execute_result"
    }
   ],
   "source": [
    "model.compile(loss='binary_crossentropy', optimizer='adam', metrics=['accuracy'])\n",
    "model.fit(padded_sequences_train, labels_train, epochs=10, batch_size=32)"
   ]
  },
  {
   "cell_type": "code",
   "execution_count": 12,
   "id": "79de8581",
   "metadata": {},
   "outputs": [
    {
     "name": "stdout",
     "output_type": "stream",
     "text": [
      "35/35 [==============================] - 0s 2ms/step - loss: 0.0709 - accuracy: 0.9830\n",
      "Test Loss: 0.07089713215827942\n",
      "Test Accuracy: 0.9829596281051636\n"
     ]
    }
   ],
   "source": [
    "test_loss, test_acc = model.evaluate(padded_sequences_test, labels_test)\n",
    "print(\"Test Loss:\", test_loss)\n",
    "print(\"Test Accuracy:\", test_acc)"
   ]
  },
  {
   "cell_type": "code",
   "execution_count": 13,
   "id": "4e1ed39f",
   "metadata": {},
   "outputs": [],
   "source": [
    "from sklearn.metrics import precision_recall_fscore_support"
   ]
  },
  {
   "cell_type": "code",
   "execution_count": 14,
   "id": "ab0d377b",
   "metadata": {},
   "outputs": [
    {
     "name": "stdout",
     "output_type": "stream",
     "text": [
      "35/35 [==============================] - 0s 1ms/step\n"
     ]
    }
   ],
   "source": [
    "y_pred = model.predict(padded_sequences_test)\n",
    "y_pred = [round(x[0]) for x in y_pred]"
   ]
  },
  {
   "cell_type": "code",
   "execution_count": 18,
   "id": "e97eb350",
   "metadata": {},
   "outputs": [],
   "source": [
    "precision, recall, fscore, support = precision_recall_fscore_support(labels_test, y_pred)"
   ]
  },
  {
   "cell_type": "code",
   "execution_count": 19,
   "id": "f7d9dea6",
   "metadata": {},
   "outputs": [
    {
     "name": "stdout",
     "output_type": "stream",
     "text": [
      "Precision: [0.98364008 0.97810219]\n",
      "Recall: [0.99689119 0.89333333]\n"
     ]
    }
   ],
   "source": [
    "print(\"Precision:\", precision)\n",
    "print(\"Recall:\", recall)"
   ]
  }
 ],
 "metadata": {
  "kernelspec": {
   "display_name": "Python 3 (ipykernel)",
   "language": "python",
   "name": "python3"
  },
  "language_info": {
   "codemirror_mode": {
    "name": "ipython",
    "version": 3
   },
   "file_extension": ".py",
   "mimetype": "text/x-python",
   "name": "python",
   "nbconvert_exporter": "python",
   "pygments_lexer": "ipython3",
   "version": "3.8.15"
  }
 },
 "nbformat": 4,
 "nbformat_minor": 5
}
